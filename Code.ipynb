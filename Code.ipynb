{
  "nbformat": 4,
  "nbformat_minor": 0,
  "metadata": {
    "colab": {
      "name": "modifiedscript17.ipynb",
      "provenance": [],
      "collapsed_sections": []
    },
    "kernelspec": {
      "name": "python3",
      "display_name": "Python 3"
    },
    "language_info": {
      "name": "python"
    }
  },
  "cells": [
    {
      "cell_type": "code",
      "metadata": {
        "id": "3TErcPfUhDPL"
      },
      "source": [
        "import pandas as pd\n",
        "import numpy as np\n",
        "import matplotlib.pyplot as plt\n",
        "%matplotlib inline\n",
        "from sklearn.utils import shuffle\n",
        "import random"
      ],
      "execution_count": 3,
      "outputs": []
    },
    {
      "cell_type": "code",
      "metadata": {
        "id": "FB24FKIdhx9x"
      },
      "source": [
        "train=pd.read_csv(\"/content/Train.csv\",index_col='ID')\n",
        "test=pd.read_csv(\"/content/Test.csv\",index_col=\"ID\")"
      ],
      "execution_count": 4,
      "outputs": []
    },
    {
      "cell_type": "code",
      "metadata": {
        "id": "XdA38XVWiUFX"
      },
      "source": [
        "train_length=train.shape[0]\n",
        "test_length=test.shape[0]"
      ],
      "execution_count": 5,
      "outputs": []
    },
    {
      "cell_type": "code",
      "metadata": {
        "colab": {
          "base_uri": "https://localhost:8080/"
        },
        "id": "73gH4454igoy",
        "outputId": "5192cee9-afa1-4e7d-e492-23bcb206de28"
      },
      "source": [
        "train.dtypes"
      ],
      "execution_count": null,
      "outputs": [
        {
          "output_type": "execute_result",
          "data": {
            "text/plain": [
              "Office_PIN                       int64\n",
              "Application_Receipt_Date        object\n",
              "Applicant_City_PIN             float64\n",
              "Applicant_Gender                object\n",
              "Applicant_BirthDate             object\n",
              "Applicant_Marital_Status        object\n",
              "Applicant_Occupation            object\n",
              "Applicant_Qualification         object\n",
              "Manager_DOJ                     object\n",
              "Manager_Joining_Designation     object\n",
              "Manager_Current_Designation     object\n",
              "Manager_Grade                  float64\n",
              "Manager_Status                  object\n",
              "Manager_Gender                  object\n",
              "Manager_DoB                     object\n",
              "Manager_Num_Application        float64\n",
              "Manager_Num_Coded              float64\n",
              "Manager_Business               float64\n",
              "Manager_Num_Products           float64\n",
              "Manager_Business2              float64\n",
              "Manager_Num_Products2          float64\n",
              "Business_Sourced                 int64\n",
              "dtype: object"
            ]
          },
          "metadata": {
            "tags": []
          },
          "execution_count": 4
        }
      ]
    },
    {
      "cell_type": "code",
      "metadata": {
        "id": "r2Gdybjyij4n"
      },
      "source": [
        "cleanup_nums={'Applicant_Gender':{'M':1,'F':0},'Manager_Gender':{'M':1,'F':0},'Applicant_Marital_Status':{'S':0,'M':1,'W':2,'D':3},\n",
        "             'Applicant_Occupation':{'Others':0,'Salaried':1,'Business':2,'Self Employed':3,'Student':4},\n",
        "             'Applicant_Qualification':{'Others':0,'Class XII':1,'Class X':2,'Graduate':3,'Masters of Business Administration':4,'Associate / Fellow of Institute of Chartered Accountans of India':5,\n",
        "                                       'Associate/Fellow of Institute of Company Secretories of India':6,'Associate/Fellow of Acturial Society of India':7,'Certified Associateship of Indian Institute of Bankers':8,\n",
        "                                       'Associate/Fellow of Insurance Institute of India':9,'Professional Qualification in Marketing':10,'Associate/Fellow of Institute of Institute of Costs and Works Accountants of India':11},\n",
        "              'Manager_Joining_Designation':{'Other':0,'Level 1':1,'Level 2':2,'Level 3':3,'Level 4':4,'Level 5':5,'Level 6':6,'Level 7':7},\n",
        "              'Manager_Current_Designation':{'Other':0,'Level 1':1,'Level 2':2,'Level 3':3,'Level 4':4,'Level 5':5,'Level 6':6,'Level 7':7},\n",
        "              'Manager_Status':{'Probation':0,'Confirmation':1}\n",
        "             }"
      ],
      "execution_count": 6,
      "outputs": []
    },
    {
      "cell_type": "code",
      "metadata": {
        "id": "Q6oyG-dBjITV"
      },
      "source": [
        "train.replace(cleanup_nums,inplace=True)\n",
        "test.replace(cleanup_nums,inplace=True)"
      ],
      "execution_count": 7,
      "outputs": []
    },
    {
      "cell_type": "code",
      "metadata": {
        "colab": {
          "base_uri": "https://localhost:8080/"
        },
        "id": "f96LJE6Ojd3K",
        "outputId": "95823e8e-ceac-4931-b0af-24fa5b30573c"
      },
      "source": [
        "train['Applicant_Gender'].value_counts()"
      ],
      "execution_count": 8,
      "outputs": [
        {
          "output_type": "execute_result",
          "data": {
            "text/plain": [
              "1.0    7179\n",
              "0.0    2281\n",
              "Name: Applicant_Gender, dtype: int64"
            ]
          },
          "metadata": {
            "tags": []
          },
          "execution_count": 8
        }
      ]
    },
    {
      "cell_type": "code",
      "metadata": {
        "colab": {
          "base_uri": "https://localhost:8080/"
        },
        "id": "7UzqnLH-jzx0",
        "outputId": "6285a022-0170-4a8e-c543-c46b803849f3"
      },
      "source": [
        "train['Manager_Gender'].value_counts()\n"
      ],
      "execution_count": 9,
      "outputs": [
        {
          "output_type": "execute_result",
          "data": {
            "text/plain": [
              "1.0    7627\n",
              "0.0    1217\n",
              "Name: Manager_Gender, dtype: int64"
            ]
          },
          "metadata": {
            "tags": []
          },
          "execution_count": 9
        }
      ]
    },
    {
      "cell_type": "code",
      "metadata": {
        "colab": {
          "base_uri": "https://localhost:8080/"
        },
        "id": "I7Ahe89Cj8kQ",
        "outputId": "02a5f7a7-81e0-4f42-beee-6eed44e23f16"
      },
      "source": [
        "train['Applicant_Marital_Status'].value_counts()"
      ],
      "execution_count": 10,
      "outputs": [
        {
          "output_type": "execute_result",
          "data": {
            "text/plain": [
              "1.0    6177\n",
              "0.0    3267\n",
              "2.0       6\n",
              "3.0       4\n",
              "Name: Applicant_Marital_Status, dtype: int64"
            ]
          },
          "metadata": {
            "tags": []
          },
          "execution_count": 10
        }
      ]
    },
    {
      "cell_type": "code",
      "metadata": {
        "colab": {
          "base_uri": "https://localhost:8080/"
        },
        "id": "z57KjH4NkIPJ",
        "outputId": "494e2c9c-e693-4da5-c9e4-bcc15a93b8f8"
      },
      "source": [
        "train['Applicant_Occupation'].value_counts()"
      ],
      "execution_count": 11,
      "outputs": [
        {
          "output_type": "execute_result",
          "data": {
            "text/plain": [
              "1.0    3787\n",
              "2.0    2303\n",
              "0.0    1966\n",
              "3.0     149\n",
              "4.0     101\n",
              "Name: Applicant_Occupation, dtype: int64"
            ]
          },
          "metadata": {
            "tags": []
          },
          "execution_count": 11
        }
      ]
    },
    {
      "cell_type": "code",
      "metadata": {
        "colab": {
          "base_uri": "https://localhost:8080/"
        },
        "id": "scVEYnVUkNVN",
        "outputId": "0b3e6d2e-e3c7-4eb8-a63d-43d98fa010f1"
      },
      "source": [
        "train['Applicant_Qualification'].value_counts()"
      ],
      "execution_count": 12,
      "outputs": [
        {
          "output_type": "execute_result",
          "data": {
            "text/plain": [
              "1.0     5806\n",
              "3.0     3196\n",
              "2.0      225\n",
              "0.0      132\n",
              "4.0       74\n",
              "5.0        3\n",
              "9.0        1\n",
              "10.0       1\n",
              "8.0        1\n",
              "7.0        1\n",
              "6.0        1\n",
              "Name: Applicant_Qualification, dtype: int64"
            ]
          },
          "metadata": {
            "tags": []
          },
          "execution_count": 12
        }
      ]
    },
    {
      "cell_type": "code",
      "metadata": {
        "colab": {
          "base_uri": "https://localhost:8080/"
        },
        "id": "miaFvBn5kWC3",
        "outputId": "fdeb2edc-5650-4adb-aa1a-76237a7d2571"
      },
      "source": [
        "train['Manager_Joining_Designation'].value_counts()"
      ],
      "execution_count": 13,
      "outputs": [
        {
          "output_type": "execute_result",
          "data": {
            "text/plain": [
              "1.0    4632\n",
              "2.0    2787\n",
              "3.0    1146\n",
              "4.0     200\n",
              "0.0      58\n",
              "6.0      18\n",
              "7.0       2\n",
              "5.0       1\n",
              "Name: Manager_Joining_Designation, dtype: int64"
            ]
          },
          "metadata": {
            "tags": []
          },
          "execution_count": 13
        }
      ]
    },
    {
      "cell_type": "code",
      "metadata": {
        "colab": {
          "base_uri": "https://localhost:8080/"
        },
        "id": "CBOz_TGSkbm9",
        "outputId": "023f540a-1365-43fc-a555-6722a8ce38e4"
      },
      "source": [
        "train['Manager_Current_Designation'].value_counts()"
      ],
      "execution_count": 14,
      "outputs": [
        {
          "output_type": "execute_result",
          "data": {
            "text/plain": [
              "2.0    3208\n",
              "1.0    2479\n",
              "3.0    2033\n",
              "4.0    1031\n",
              "5.0      93\n",
              "Name: Manager_Current_Designation, dtype: int64"
            ]
          },
          "metadata": {
            "tags": []
          },
          "execution_count": 14
        }
      ]
    },
    {
      "cell_type": "code",
      "metadata": {
        "colab": {
          "base_uri": "https://localhost:8080/"
        },
        "id": "UGRMWGhpkgjn",
        "outputId": "ba67d90c-cce2-4e5f-f6d8-94860d88d02a"
      },
      "source": [
        "train['Manager_Status'].value_counts()"
      ],
      "execution_count": 15,
      "outputs": [
        {
          "output_type": "execute_result",
          "data": {
            "text/plain": [
              "1.0    5277\n",
              "0.0    3567\n",
              "Name: Manager_Status, dtype: int64"
            ]
          },
          "metadata": {
            "tags": []
          },
          "execution_count": 15
        }
      ]
    },
    {
      "cell_type": "code",
      "metadata": {
        "id": "Ivq3G3c6kmD7"
      },
      "source": [
        "train['Applicant_City_PIN']=train['Applicant_City_PIN'].ffill().bfill()\n",
        "train['Applicant_Gender']=train['Applicant_Gender'].ffill().bfill()\n",
        "train['Applicant_BirthDate']=train['Applicant_BirthDate'].ffill().bfill()\n",
        "train['Applicant_Marital_Status']=train['Applicant_Marital_Status'].ffill().bfill()\n",
        "train['Applicant_Occupation']=train['Applicant_Occupation'].ffill().bfill()\n",
        "train['Applicant_Qualification']=train['Applicant_Qualification'].ffill().bfill()\n",
        "train['Manager_DOJ']=train['Manager_DOJ'].ffill().bfill()\n",
        "train['Manager_Joining_Designation']=train['Manager_Joining_Designation'].ffill().bfill()\n",
        "train['Manager_Current_Designation']=train['Manager_Current_Designation'].ffill().bfill()\n",
        "train['Manager_Grade']=train['Manager_Grade'].ffill().bfill()\n",
        "train['Manager_Status']=train['Manager_Status'].ffill().bfill()\n",
        "train['Manager_Gender']=train['Manager_Gender'].ffill().bfill()\n",
        "train['Manager_DoB']=train['Manager_DoB'].ffill().bfill()\n",
        "train['Manager_Num_Application']=train['Manager_Num_Application'].ffill().bfill()\n",
        "train['Manager_Num_Coded']=train['Manager_Num_Coded'].ffill().bfill()\n",
        "train['Manager_Business']=train['Manager_Business'].ffill().bfill()\n",
        "train['Manager_Num_Products']=train['Manager_Num_Products'].ffill().bfill()\n",
        "train['Manager_Business2']=train['Manager_Business2'].ffill().bfill()\n",
        "train['Manager_Num_Products2']=train['Manager_Num_Products2'].ffill().bfill()\n",
        "train['Business_Sourced']=train['Business_Sourced'].ffill().bfill()\n",
        "\n",
        "\n",
        "\n"
      ],
      "execution_count": 16,
      "outputs": []
    },
    {
      "cell_type": "code",
      "metadata": {
        "id": "SgibClkzku3t"
      },
      "source": [
        "test['Applicant_City_PIN']=test['Applicant_City_PIN'].ffill().bfill()\n",
        "test['Applicant_Gender']=test['Applicant_Gender'].ffill().bfill()\n",
        "test['Applicant_BirthDate']=test['Applicant_BirthDate'].ffill().bfill()\n",
        "test['Applicant_Marital_Status']=test['Applicant_Marital_Status'].ffill().bfill()\n",
        "test['Applicant_Occupation']=test['Applicant_Occupation'].ffill().bfill()\n",
        "test['Applicant_Qualification']=test['Applicant_Qualification'].ffill().bfill()\n",
        "test['Manager_DOJ']=test['Manager_DOJ'].ffill().bfill()\n",
        "test['Manager_Joining_Designation']=test['Manager_Joining_Designation'].ffill().bfill()\n",
        "test['Manager_Current_Designation']=test['Manager_Current_Designation'].ffill().bfill()\n",
        "test['Manager_Grade']=test['Manager_Grade'].ffill().bfill()\n",
        "test['Manager_Status']=test['Manager_Status'].ffill().bfill()\n",
        "test['Manager_Gender']=test['Manager_Gender'].ffill().bfill()\n",
        "test['Manager_DoB']=test['Manager_DoB'].ffill().bfill()\n",
        "test['Manager_Num_Application']=test['Manager_Num_Application'].ffill().bfill()\n",
        "test['Manager_Business']=test['Manager_Business'].fillna(np.mean(test['Manager_Business']))\n",
        "test['Manager_Num_Products']=test['Manager_Num_Products'].ffill().bfill()\n",
        "test['Manager_Business2']=test['Manager_Business2'].fillna(np.mean(test['Manager_Business2']))\n",
        "test['Manager_Num_Products2']=test['Manager_Num_Products2'].ffill().bfill()\n",
        "test['Manager_Num_Coded']=test['Manager_Num_Coded'].ffill().bfill()"
      ],
      "execution_count": 17,
      "outputs": []
    },
    {
      "cell_type": "code",
      "metadata": {
        "colab": {
          "base_uri": "https://localhost:8080/"
        },
        "id": "WLJvheV1npW4",
        "outputId": "0627dc9e-ac83-4569-9933-ba58f9248a20"
      },
      "source": [
        "train.columns[train.isna().any()].tolist()"
      ],
      "execution_count": 18,
      "outputs": [
        {
          "output_type": "execute_result",
          "data": {
            "text/plain": [
              "[]"
            ]
          },
          "metadata": {
            "tags": []
          },
          "execution_count": 18
        }
      ]
    },
    {
      "cell_type": "code",
      "metadata": {
        "id": "o0ruzNVEoA2d"
      },
      "source": [
        "train.loc[train['Manager_Business']>650000,'Manager_Business']=np.mean(train['Manager_Business'])"
      ],
      "execution_count": 19,
      "outputs": []
    },
    {
      "cell_type": "code",
      "metadata": {
        "colab": {
          "base_uri": "https://localhost:8080/",
          "height": 404
        },
        "id": "JlZyOkQDpfAd",
        "outputId": "c99487fd-4c81-49f4-f034-99c5569086fc"
      },
      "source": [
        "plt.boxplot(train['Manager_Business'])"
      ],
      "execution_count": 20,
      "outputs": [
        {
          "output_type": "execute_result",
          "data": {
            "text/plain": [
              "{'boxes': [<matplotlib.lines.Line2D at 0x7fe81c45ab90>],\n",
              " 'caps': [<matplotlib.lines.Line2D at 0x7fe81c46ec50>,\n",
              "  <matplotlib.lines.Line2D at 0x7fe81c4751d0>],\n",
              " 'fliers': [<matplotlib.lines.Line2D at 0x7fe81c475c90>],\n",
              " 'means': [],\n",
              " 'medians': [<matplotlib.lines.Line2D at 0x7fe81c475750>],\n",
              " 'whiskers': [<matplotlib.lines.Line2D at 0x7fe81c46e1d0>,\n",
              "  <matplotlib.lines.Line2D at 0x7fe81c46e710>]}"
            ]
          },
          "metadata": {
            "tags": []
          },
          "execution_count": 20
        },
        {
          "output_type": "display_data",
          "data": {
            "image/png": "[encoded data removed]",
            "text/plain": [
              "<Figure size 432x288 with 1 Axes>"
            ]
          },
          "metadata": {
            "tags": [],
            "needs_background": "light"
          }
        }
      ]
    },
    {
      "cell_type": "code",
      "metadata": {
        "id": "GF5MpudGq0Z8"
      },
      "source": [
        "train.loc[train['Manager_Business2']>500000,'Manager_Business2']=np.mean(train['Manager_Business2'])"
      ],
      "execution_count": 21,
      "outputs": []
    },
    {
      "cell_type": "code",
      "metadata": {
        "colab": {
          "base_uri": "https://localhost:8080/",
          "height": 404
        },
        "id": "kpkktR7usBBB",
        "outputId": "ababbdb8-c0ad-44b8-c6fc-f274ade9a80b"
      },
      "source": [
        "plt.boxplot(train['Manager_Business2'])"
      ],
      "execution_count": 22,
      "outputs": [
        {
          "output_type": "execute_result",
          "data": {
            "text/plain": [
              "{'boxes': [<matplotlib.lines.Line2D at 0x7fe81bfbd9d0>],\n",
              " 'caps': [<matplotlib.lines.Line2D at 0x7fe81bfc1a10>,\n",
              "  <matplotlib.lines.Line2D at 0x7fe81bfc1f50>],\n",
              " 'fliers': [<matplotlib.lines.Line2D at 0x7fe81bfc8a50>],\n",
              " 'means': [],\n",
              " 'medians': [<matplotlib.lines.Line2D at 0x7fe81bfc8510>],\n",
              " 'whiskers': [<matplotlib.lines.Line2D at 0x7fe81bfbdf50>,\n",
              "  <matplotlib.lines.Line2D at 0x7fe81bfc14d0>]}"
            ]
          },
          "metadata": {
            "tags": []
          },
          "execution_count": 22
        },
        {
          "output_type": "display_data",
          "data": {
            "image/png": "[encoded data removed]",
            "text/plain": [
              "<Figure size 432x288 with 1 Axes>"
            ]
          },
          "metadata": {
            "tags": [],
            "needs_background": "light"
          }
        }
      ]
    },
    {
      "cell_type": "code",
      "metadata": {
        "colab": {
          "base_uri": "https://localhost:8080/",
          "height": 257
        },
        "id": "GQakR7U6sJ_Q",
        "outputId": "f83a3156-1801-40eb-e4b9-f642c5583939"
      },
      "source": [
        "train.head()"
      ],
      "execution_count": 23,
      "outputs": [
        {
          "output_type": "execute_result",
          "data": {
            "text/html": [
              "<div>\n",
              "<style scoped>\n",
              "    .dataframe tbody tr th:only-of-type {\n",
              "        vertical-align: middle;\n",
              "    }\n",
              "\n",
              "    .dataframe tbody tr th {\n",
              "        vertical-align: top;\n",
              "    }\n",
              "\n",
              "    .dataframe thead th {\n",
              "        text-align: right;\n",
              "    }\n",
              "</style>\n",
              "<table border=\"1\" class=\"dataframe\">\n",
              "  <thead>\n",
              "    <tr style=\"text-align: right;\">\n",
              "      <th></th>\n",
              "      <th>Office_PIN</th>\n",
              "      <th>Application_Receipt_Date</th>\n",
              "      <th>Applicant_City_PIN</th>\n",
              "      <th>Applicant_Gender</th>\n",
              "      <th>Applicant_BirthDate</th>\n",
              "      <th>Applicant_Marital_Status</th>\n",
              "      <th>Applicant_Occupation</th>\n",
              "      <th>Applicant_Qualification</th>\n",
              "      <th>Manager_DOJ</th>\n",
              "      <th>Manager_Joining_Designation</th>\n",
              "      <th>Manager_Current_Designation</th>\n",
              "      <th>Manager_Grade</th>\n",
              "      <th>Manager_Status</th>\n",
              "      <th>Manager_Gender</th>\n",
              "      <th>Manager_DoB</th>\n",
              "      <th>Manager_Num_Application</th>\n",
              "      <th>Manager_Num_Coded</th>\n",
              "      <th>Manager_Business</th>\n",
              "      <th>Manager_Num_Products</th>\n",
              "      <th>Manager_Business2</th>\n",
              "      <th>Manager_Num_Products2</th>\n",
              "      <th>Business_Sourced</th>\n",
              "    </tr>\n",
              "    <tr>\n",
              "      <th>ID</th>\n",
              "      <th></th>\n",
              "      <th></th>\n",
              "      <th></th>\n",
              "      <th></th>\n",
              "      <th></th>\n",
              "      <th></th>\n",
              "      <th></th>\n",
              "      <th></th>\n",
              "      <th></th>\n",
              "      <th></th>\n",
              "      <th></th>\n",
              "      <th></th>\n",
              "      <th></th>\n",
              "      <th></th>\n",
              "      <th></th>\n",
              "      <th></th>\n",
              "      <th></th>\n",
              "      <th></th>\n",
              "      <th></th>\n",
              "      <th></th>\n",
              "      <th></th>\n",
              "      <th></th>\n",
              "    </tr>\n",
              "  </thead>\n",
              "  <tbody>\n",
              "    <tr>\n",
              "      <th>FIN1000001</th>\n",
              "      <td>842001</td>\n",
              "      <td>4/16/2007</td>\n",
              "      <td>844120.0</td>\n",
              "      <td>1.0</td>\n",
              "      <td>12/19/1971</td>\n",
              "      <td>1.0</td>\n",
              "      <td>0.0</td>\n",
              "      <td>3.0</td>\n",
              "      <td>11/10/2005</td>\n",
              "      <td>1.0</td>\n",
              "      <td>2.0</td>\n",
              "      <td>3.0</td>\n",
              "      <td>1.0</td>\n",
              "      <td>1.0</td>\n",
              "      <td>2/17/1978</td>\n",
              "      <td>2.0</td>\n",
              "      <td>1.0</td>\n",
              "      <td>335249.0</td>\n",
              "      <td>28.0</td>\n",
              "      <td>335249.0</td>\n",
              "      <td>28.0</td>\n",
              "      <td>0</td>\n",
              "    </tr>\n",
              "    <tr>\n",
              "      <th>FIN1000002</th>\n",
              "      <td>842001</td>\n",
              "      <td>4/16/2007</td>\n",
              "      <td>844111.0</td>\n",
              "      <td>1.0</td>\n",
              "      <td>2/17/1983</td>\n",
              "      <td>0.0</td>\n",
              "      <td>0.0</td>\n",
              "      <td>1.0</td>\n",
              "      <td>11/10/2005</td>\n",
              "      <td>1.0</td>\n",
              "      <td>2.0</td>\n",
              "      <td>3.0</td>\n",
              "      <td>1.0</td>\n",
              "      <td>1.0</td>\n",
              "      <td>2/17/1978</td>\n",
              "      <td>2.0</td>\n",
              "      <td>1.0</td>\n",
              "      <td>335249.0</td>\n",
              "      <td>28.0</td>\n",
              "      <td>335249.0</td>\n",
              "      <td>28.0</td>\n",
              "      <td>1</td>\n",
              "    </tr>\n",
              "    <tr>\n",
              "      <th>FIN1000003</th>\n",
              "      <td>800001</td>\n",
              "      <td>4/16/2007</td>\n",
              "      <td>844101.0</td>\n",
              "      <td>1.0</td>\n",
              "      <td>1/16/1966</td>\n",
              "      <td>1.0</td>\n",
              "      <td>2.0</td>\n",
              "      <td>1.0</td>\n",
              "      <td>5/27/2006</td>\n",
              "      <td>1.0</td>\n",
              "      <td>1.0</td>\n",
              "      <td>2.0</td>\n",
              "      <td>1.0</td>\n",
              "      <td>1.0</td>\n",
              "      <td>3/3/1969</td>\n",
              "      <td>0.0</td>\n",
              "      <td>0.0</td>\n",
              "      <td>357184.0</td>\n",
              "      <td>24.0</td>\n",
              "      <td>357184.0</td>\n",
              "      <td>24.0</td>\n",
              "      <td>0</td>\n",
              "    </tr>\n",
              "    <tr>\n",
              "      <th>FIN1000004</th>\n",
              "      <td>814112</td>\n",
              "      <td>4/16/2007</td>\n",
              "      <td>814112.0</td>\n",
              "      <td>1.0</td>\n",
              "      <td>2/3/1988</td>\n",
              "      <td>0.0</td>\n",
              "      <td>1.0</td>\n",
              "      <td>1.0</td>\n",
              "      <td>8/21/2003</td>\n",
              "      <td>1.0</td>\n",
              "      <td>3.0</td>\n",
              "      <td>4.0</td>\n",
              "      <td>1.0</td>\n",
              "      <td>0.0</td>\n",
              "      <td>8/14/1978</td>\n",
              "      <td>0.0</td>\n",
              "      <td>0.0</td>\n",
              "      <td>318356.0</td>\n",
              "      <td>22.0</td>\n",
              "      <td>318356.0</td>\n",
              "      <td>22.0</td>\n",
              "      <td>0</td>\n",
              "    </tr>\n",
              "    <tr>\n",
              "      <th>FIN1000005</th>\n",
              "      <td>814112</td>\n",
              "      <td>4/16/2007</td>\n",
              "      <td>815351.0</td>\n",
              "      <td>1.0</td>\n",
              "      <td>7/4/1985</td>\n",
              "      <td>1.0</td>\n",
              "      <td>0.0</td>\n",
              "      <td>1.0</td>\n",
              "      <td>5/8/2006</td>\n",
              "      <td>1.0</td>\n",
              "      <td>1.0</td>\n",
              "      <td>2.0</td>\n",
              "      <td>1.0</td>\n",
              "      <td>1.0</td>\n",
              "      <td>2/7/1971</td>\n",
              "      <td>2.0</td>\n",
              "      <td>1.0</td>\n",
              "      <td>230402.0</td>\n",
              "      <td>17.0</td>\n",
              "      <td>230402.0</td>\n",
              "      <td>17.0</td>\n",
              "      <td>0</td>\n",
              "    </tr>\n",
              "  </tbody>\n",
              "</table>\n",
              "</div>"
            ],
            "text/plain": [
              "            Office_PIN  ... Business_Sourced\n",
              "ID                      ...                 \n",
              "FIN1000001      842001  ...                0\n",
              "FIN1000002      842001  ...                1\n",
              "FIN1000003      800001  ...                0\n",
              "FIN1000004      814112  ...                0\n",
              "FIN1000005      814112  ...                0\n",
              "\n",
              "[5 rows x 22 columns]"
            ]
          },
          "metadata": {
            "tags": []
          },
          "execution_count": 23
        }
      ]
    },
    {
      "cell_type": "code",
      "metadata": {
        "id": "ZHq7-9FwsNkX"
      },
      "source": [
        "x_train=train.drop(['Business_Sourced','Application_Receipt_Date','Applicant_BirthDate','Manager_DOJ','Manager_DoB'],axis=1)"
      ],
      "execution_count": 24,
      "outputs": []
    },
    {
      "cell_type": "code",
      "metadata": {
        "id": "Ulk-0sdqsxYm"
      },
      "source": [
        "y_train=train['Business_Sourced']"
      ],
      "execution_count": 25,
      "outputs": []
    },
    {
      "cell_type": "code",
      "metadata": {
        "colab": {
          "base_uri": "https://localhost:8080/",
          "height": 257
        },
        "id": "qHkqCAJys8VB",
        "outputId": "245b1b03-47b1-4e9b-a799-01353652777b"
      },
      "source": [
        "x_train.head()"
      ],
      "execution_count": 26,
      "outputs": [
        {
          "output_type": "execute_result",
          "data": {
            "text/html": [
              "<div>\n",
              "<style scoped>\n",
              "    .dataframe tbody tr th:only-of-type {\n",
              "        vertical-align: middle;\n",
              "    }\n",
              "\n",
              "    .dataframe tbody tr th {\n",
              "        vertical-align: top;\n",
              "    }\n",
              "\n",
              "    .dataframe thead th {\n",
              "        text-align: right;\n",
              "    }\n",
              "</style>\n",
              "<table border=\"1\" class=\"dataframe\">\n",
              "  <thead>\n",
              "    <tr style=\"text-align: right;\">\n",
              "      <th></th>\n",
              "      <th>Office_PIN</th>\n",
              "      <th>Applicant_City_PIN</th>\n",
              "      <th>Applicant_Gender</th>\n",
              "      <th>Applicant_Marital_Status</th>\n",
              "      <th>Applicant_Occupation</th>\n",
              "      <th>Applicant_Qualification</th>\n",
              "      <th>Manager_Joining_Designation</th>\n",
              "      <th>Manager_Current_Designation</th>\n",
              "      <th>Manager_Grade</th>\n",
              "      <th>Manager_Status</th>\n",
              "      <th>Manager_Gender</th>\n",
              "      <th>Manager_Num_Application</th>\n",
              "      <th>Manager_Num_Coded</th>\n",
              "      <th>Manager_Business</th>\n",
              "      <th>Manager_Num_Products</th>\n",
              "      <th>Manager_Business2</th>\n",
              "      <th>Manager_Num_Products2</th>\n",
              "    </tr>\n",
              "    <tr>\n",
              "      <th>ID</th>\n",
              "      <th></th>\n",
              "      <th></th>\n",
              "      <th></th>\n",
              "      <th></th>\n",
              "      <th></th>\n",
              "      <th></th>\n",
              "      <th></th>\n",
              "      <th></th>\n",
              "      <th></th>\n",
              "      <th></th>\n",
              "      <th></th>\n",
              "      <th></th>\n",
              "      <th></th>\n",
              "      <th></th>\n",
              "      <th></th>\n",
              "      <th></th>\n",
              "      <th></th>\n",
              "    </tr>\n",
              "  </thead>\n",
              "  <tbody>\n",
              "    <tr>\n",
              "      <th>FIN1000001</th>\n",
              "      <td>842001</td>\n",
              "      <td>844120.0</td>\n",
              "      <td>1.0</td>\n",
              "      <td>1.0</td>\n",
              "      <td>0.0</td>\n",
              "      <td>3.0</td>\n",
              "      <td>1.0</td>\n",
              "      <td>2.0</td>\n",
              "      <td>3.0</td>\n",
              "      <td>1.0</td>\n",
              "      <td>1.0</td>\n",
              "      <td>2.0</td>\n",
              "      <td>1.0</td>\n",
              "      <td>335249.0</td>\n",
              "      <td>28.0</td>\n",
              "      <td>335249.0</td>\n",
              "      <td>28.0</td>\n",
              "    </tr>\n",
              "    <tr>\n",
              "      <th>FIN1000002</th>\n",
              "      <td>842001</td>\n",
              "      <td>844111.0</td>\n",
              "      <td>1.0</td>\n",
              "      <td>0.0</td>\n",
              "      <td>0.0</td>\n",
              "      <td>1.0</td>\n",
              "      <td>1.0</td>\n",
              "      <td>2.0</td>\n",
              "      <td>3.0</td>\n",
              "      <td>1.0</td>\n",
              "      <td>1.0</td>\n",
              "      <td>2.0</td>\n",
              "      <td>1.0</td>\n",
              "      <td>335249.0</td>\n",
              "      <td>28.0</td>\n",
              "      <td>335249.0</td>\n",
              "      <td>28.0</td>\n",
              "    </tr>\n",
              "    <tr>\n",
              "      <th>FIN1000003</th>\n",
              "      <td>800001</td>\n",
              "      <td>844101.0</td>\n",
              "      <td>1.0</td>\n",
              "      <td>1.0</td>\n",
              "      <td>2.0</td>\n",
              "      <td>1.0</td>\n",
              "      <td>1.0</td>\n",
              "      <td>1.0</td>\n",
              "      <td>2.0</td>\n",
              "      <td>1.0</td>\n",
              "      <td>1.0</td>\n",
              "      <td>0.0</td>\n",
              "      <td>0.0</td>\n",
              "      <td>357184.0</td>\n",
              "      <td>24.0</td>\n",
              "      <td>357184.0</td>\n",
              "      <td>24.0</td>\n",
              "    </tr>\n",
              "    <tr>\n",
              "      <th>FIN1000004</th>\n",
              "      <td>814112</td>\n",
              "      <td>814112.0</td>\n",
              "      <td>1.0</td>\n",
              "      <td>0.0</td>\n",
              "      <td>1.0</td>\n",
              "      <td>1.0</td>\n",
              "      <td>1.0</td>\n",
              "      <td>3.0</td>\n",
              "      <td>4.0</td>\n",
              "      <td>1.0</td>\n",
              "      <td>0.0</td>\n",
              "      <td>0.0</td>\n",
              "      <td>0.0</td>\n",
              "      <td>318356.0</td>\n",
              "      <td>22.0</td>\n",
              "      <td>318356.0</td>\n",
              "      <td>22.0</td>\n",
              "    </tr>\n",
              "    <tr>\n",
              "      <th>FIN1000005</th>\n",
              "      <td>814112</td>\n",
              "      <td>815351.0</td>\n",
              "      <td>1.0</td>\n",
              "      <td>1.0</td>\n",
              "      <td>0.0</td>\n",
              "      <td>1.0</td>\n",
              "      <td>1.0</td>\n",
              "      <td>1.0</td>\n",
              "      <td>2.0</td>\n",
              "      <td>1.0</td>\n",
              "      <td>1.0</td>\n",
              "      <td>2.0</td>\n",
              "      <td>1.0</td>\n",
              "      <td>230402.0</td>\n",
              "      <td>17.0</td>\n",
              "      <td>230402.0</td>\n",
              "      <td>17.0</td>\n",
              "    </tr>\n",
              "  </tbody>\n",
              "</table>\n",
              "</div>"
            ],
            "text/plain": [
              "            Office_PIN  ...  Manager_Num_Products2\n",
              "ID                      ...                       \n",
              "FIN1000001      842001  ...                   28.0\n",
              "FIN1000002      842001  ...                   28.0\n",
              "FIN1000003      800001  ...                   24.0\n",
              "FIN1000004      814112  ...                   22.0\n",
              "FIN1000005      814112  ...                   17.0\n",
              "\n",
              "[5 rows x 17 columns]"
            ]
          },
          "metadata": {
            "tags": []
          },
          "execution_count": 26
        }
      ]
    },
    {
      "cell_type": "code",
      "metadata": {
        "id": "pUsPvdlgs-44"
      },
      "source": [
        "test=test.drop(['Application_Receipt_Date','Applicant_BirthDate','Manager_DOJ','Manager_DoB'],axis=1)"
      ],
      "execution_count": 27,
      "outputs": []
    },
    {
      "cell_type": "code",
      "metadata": {
        "id": "C49QamJ5tXXf"
      },
      "source": [
        "from sklearn.tree import DecisionTreeClassifier"
      ],
      "execution_count": 28,
      "outputs": []
    },
    {
      "cell_type": "code",
      "metadata": {
        "id": "lJfW6-gCte7p"
      },
      "source": [
        "logreg=DecisionTreeClassifier(max_features=10,criterion=\"entropy\", max_depth=12)"
      ],
      "execution_count": 90,
      "outputs": []
    },
    {
      "cell_type": "code",
      "metadata": {
        "colab": {
          "base_uri": "https://localhost:8080/"
        },
        "id": "kMyE0wKgt7O9",
        "outputId": "d69593eb-03c0-4ad7-80cb-b94395ea18a7"
      },
      "source": [
        "logreg.fit(x_train,y_train)"
      ],
      "execution_count": 91,
      "outputs": [
        {
          "output_type": "execute_result",
          "data": {
            "text/plain": [
              "DecisionTreeClassifier(ccp_alpha=0.0, class_weight=None, criterion='entropy',\n",
              "                       max_depth=12, max_features=10, max_leaf_nodes=None,\n",
              "                       min_impurity_decrease=0.0, min_impurity_split=None,\n",
              "                       min_samples_leaf=1, min_samples_split=2,\n",
              "                       min_weight_fraction_leaf=0.0, presort='deprecated',\n",
              "                       random_state=None, splitter='best')"
            ]
          },
          "metadata": {
            "tags": []
          },
          "execution_count": 91
        }
      ]
    },
    {
      "cell_type": "code",
      "metadata": {
        "id": "S5zSuk7DuFP_"
      },
      "source": [
        "pred=logreg.predict(test)"
      ],
      "execution_count": 92,
      "outputs": []
    },
    {
      "cell_type": "code",
      "metadata": {
        "colab": {
          "base_uri": "https://localhost:8080/"
        },
        "id": "vw-vPux2uL2S",
        "outputId": "c57178c9-ada9-4250-dba8-e76aab341dee"
      },
      "source": [
        "logreg.score(x_train,y_train)"
      ],
      "execution_count": 93,
      "outputs": [
        {
          "output_type": "execute_result",
          "data": {
            "text/plain": [
              "0.7238375144326651"
            ]
          },
          "metadata": {
            "tags": []
          },
          "execution_count": 93
        }
      ]
    },
    {
      "cell_type": "code",
      "metadata": {
        "id": "c-RIZLfWuS8l"
      },
      "source": [
        "test_Business_Sourced=pred"
      ],
      "execution_count": 94,
      "outputs": []
    },
    {
      "cell_type": "code",
      "metadata": {
        "id": "qv6w13VsueNy"
      },
      "source": [
        "result={'ID':test.index,'Business_Sourced':pred}\n",
        "output=pd.DataFrame(result)"
      ],
      "execution_count": 95,
      "outputs": []
    },
    {
      "cell_type": "code",
      "metadata": {
        "colab": {
          "base_uri": "https://localhost:8080/"
        },
        "id": "trWUIINFu1IJ",
        "outputId": "7849919f-838e-427b-98a1-35cf1da67a0d"
      },
      "source": [
        "output['Business_Sourced'].value_counts()"
      ],
      "execution_count": 96,
      "outputs": [
        {
          "output_type": "execute_result",
          "data": {
            "text/plain": [
              "0    4172\n",
              "1     873\n",
              "Name: Business_Sourced, dtype: int64"
            ]
          },
          "metadata": {
            "tags": []
          },
          "execution_count": 96
        }
      ]
    },
    {
      "cell_type": "code",
      "metadata": {
        "id": "SevfSU8Lu8_T"
      },
      "source": [
        "output.to_csv('Sample_Submission.csv',index=False)"
      ],
      "execution_count": 97,
      "outputs": []
    },
    {
      "cell_type": "code",
      "metadata": {
        "id": "WYg-5oBlvMTO"
      },
      "source": [
        "from sklearn.ensemble import RandomForestClassifier,RandomForestRegressor\n",
        "#logreg=RandomForestRegressor(max_depth=20,n_estimators=250)\n",
        "logreg=RandomForestRegressor(n_estimators = 300,max_depth=20, oob_score = True, n_jobs = -1,random_state =50,max_features = \"auto\", min_samples_leaf = 50)\n"
      ],
      "execution_count": 234,
      "outputs": []
    },
    {
      "cell_type": "markdown",
      "metadata": {
        "id": "h3kPVXVRmb3y"
      },
      "source": [
        ""
      ]
    },
    {
      "cell_type": "code",
      "metadata": {
        "colab": {
          "base_uri": "https://localhost:8080/"
        },
        "id": "6W_yFwcEgsik",
        "outputId": "369fdd67-2cc0-4ecd-ec26-7e1136ce4a61"
      },
      "source": [
        "logreg.fit(x_train,y_train)"
      ],
      "execution_count": 235,
      "outputs": [
        {
          "output_type": "execute_result",
          "data": {
            "text/plain": [
              "RandomForestRegressor(bootstrap=True, ccp_alpha=0.0, criterion='mse',\n",
              "                      max_depth=20, max_features='auto', max_leaf_nodes=None,\n",
              "                      max_samples=None, min_impurity_decrease=0.0,\n",
              "                      min_impurity_split=None, min_samples_leaf=50,\n",
              "                      min_samples_split=2, min_weight_fraction_leaf=0.0,\n",
              "                      n_estimators=300, n_jobs=-1, oob_score=True,\n",
              "                      random_state=50, verbose=0, warm_start=False)"
            ]
          },
          "metadata": {
            "tags": []
          },
          "execution_count": 235
        }
      ]
    },
    {
      "cell_type": "code",
      "metadata": {
        "id": "zpAUkmfrgzCo"
      },
      "source": [
        "pred=logreg.predict(test)\n"
      ],
      "execution_count": 236,
      "outputs": []
    },
    {
      "cell_type": "code",
      "metadata": {
        "colab": {
          "base_uri": "https://localhost:8080/"
        },
        "id": "aYFHegyXg2tH",
        "outputId": "21a22655-df34-4bb6-bb52-612342dd43cf"
      },
      "source": [
        "logreg.score(x_train,y_train)\n"
      ],
      "execution_count": 237,
      "outputs": [
        {
          "output_type": "execute_result",
          "data": {
            "text/plain": [
              "0.11392508462059203"
            ]
          },
          "metadata": {
            "tags": []
          },
          "execution_count": 237
        }
      ]
    },
    {
      "cell_type": "code",
      "metadata": {
        "id": "TzpU5eUig6AZ"
      },
      "source": [
        "test_Business_Sourced=pred"
      ],
      "execution_count": 238,
      "outputs": []
    },
    {
      "cell_type": "code",
      "metadata": {
        "id": "r8BPrZ3uhJo4"
      },
      "source": [
        "result={'ID':test.index,'Business_Sourced':pred}\n",
        "output=pd.DataFrame(result)"
      ],
      "execution_count": 231,
      "outputs": []
    },
    {
      "cell_type": "code",
      "metadata": {
        "colab": {
          "base_uri": "https://localhost:8080/"
        },
        "id": "BOk-Z_uQhNPF",
        "outputId": "041a39b9-a455-426e-ced1-5622a4db5613"
      },
      "source": [
        "output['Business_Sourced'].value_counts()\n"
      ],
      "execution_count": 239,
      "outputs": [
        {
          "output_type": "execute_result",
          "data": {
            "text/plain": [
              "0.307965    8\n",
              "0.424808    8\n",
              "0.296072    5\n",
              "0.478797    5\n",
              "0.559151    5\n",
              "           ..\n",
              "0.098607    1\n",
              "0.405682    1\n",
              "0.349136    1\n",
              "0.231274    1\n",
              "0.296350    1\n",
              "Name: Business_Sourced, Length: 4778, dtype: int64"
            ]
          },
          "metadata": {
            "tags": []
          },
          "execution_count": 239
        }
      ]
    },
    {
      "cell_type": "code",
      "metadata": {
        "id": "0MPSBiughQZv"
      },
      "source": [
        "output.to_csv('Sample_Submission.csv',index=False)"
      ],
      "execution_count": 240,
      "outputs": []
    },
    {
      "cell_type": "code",
      "metadata": {
        "id": "o3lvVixrhYVf"
      },
      "source": [
        ""
      ],
      "execution_count": 120,
      "outputs": []
    },
    {
      "cell_type": "code",
      "metadata": {
        "id": "tbXGGM8tjqVc"
      },
      "source": [
        ""
      ],
      "execution_count": 121,
      "outputs": []
    },
    {
      "cell_type": "code",
      "metadata": {
        "colab": {
          "base_uri": "https://localhost:8080/"
        },
        "id": "1_9j4YFej2aH",
        "outputId": "ba30cfcd-9ad5-4233-bcd7-6f41c60acfd8"
      },
      "source": [
        ""
      ],
      "execution_count": 122,
      "outputs": [
        {
          "output_type": "execute_result",
          "data": {
            "text/plain": [
              "BaggingClassifier(base_estimator=SVC(C=1.0, break_ties=False, cache_size=200,\n",
              "                                     class_weight=None, coef0=0.0,\n",
              "                                     decision_function_shape='ovr', degree=3,\n",
              "                                     gamma='scale', kernel='rbf', max_iter=-1,\n",
              "                                     probability=False, random_state=None,\n",
              "                                     shrinking=True, tol=0.001, verbose=False),\n",
              "                  bootstrap=True, bootstrap_features=False, max_features=1.0,\n",
              "                  max_samples=1.0, n_estimators=10, n_jobs=None,\n",
              "                  oob_score=False, random_state=0, verbose=0, warm_start=False)"
            ]
          },
          "metadata": {
            "tags": []
          },
          "execution_count": 122
        }
      ]
    },
    {
      "cell_type": "code",
      "metadata": {
        "id": "OV2i8cEWj6nQ"
      },
      "source": [
        ""
      ],
      "execution_count": 123,
      "outputs": []
    },
    {
      "cell_type": "code",
      "metadata": {
        "colab": {
          "base_uri": "https://localhost:8080/"
        },
        "id": "4Rv1VD5dkAq7",
        "outputId": "f69f15e2-24b8-4f07-c9c6-8d4babf02366"
      },
      "source": [
        ""
      ],
      "execution_count": 124,
      "outputs": [
        {
          "output_type": "execute_result",
          "data": {
            "text/plain": [
              "0.6570798782407893"
            ]
          },
          "metadata": {
            "tags": []
          },
          "execution_count": 124
        }
      ]
    },
    {
      "cell_type": "code",
      "metadata": {
        "id": "fUvkR12_kETB"
      },
      "source": [
        ""
      ],
      "execution_count": 125,
      "outputs": []
    },
    {
      "cell_type": "code",
      "metadata": {
        "id": "XpyzBffgkKps"
      },
      "source": [
        ""
      ],
      "execution_count": 126,
      "outputs": []
    },
    {
      "cell_type": "code",
      "metadata": {
        "colab": {
          "base_uri": "https://localhost:8080/"
        },
        "id": "EuOYqcrLkORI",
        "outputId": "10e64d58-e806-4f30-be16-651531d2b501"
      },
      "source": [
        ""
      ],
      "execution_count": 127,
      "outputs": [
        {
          "output_type": "execute_result",
          "data": {
            "text/plain": [
              "0    5045\n",
              "Name: Business_Sourced, dtype: int64"
            ]
          },
          "metadata": {
            "tags": []
          },
          "execution_count": 127
        }
      ]
    },
    {
      "cell_type": "code",
      "metadata": {
        "id": "vnKwN8A0kSp1"
      },
      "source": [
        ""
      ],
      "execution_count": 128,
      "outputs": []
    },
    {
      "cell_type": "code",
      "metadata": {
        "id": "jnycCoY_kVwS"
      },
      "source": [
        ""
      ],
      "execution_count": null,
      "outputs": []
    }
  ]
}
